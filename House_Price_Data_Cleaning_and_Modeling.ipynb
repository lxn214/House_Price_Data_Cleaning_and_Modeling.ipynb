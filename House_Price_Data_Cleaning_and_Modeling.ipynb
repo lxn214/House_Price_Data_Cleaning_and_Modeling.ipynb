{
  "nbformat": 4,
  "nbformat_minor": 5,
  "metadata": {
    "noteable-chatgpt": {
      "create_notebook": {
        "openai_conversation_id": "ce7a30ec-4843-5097-8539-74943c90a8aa",
        "openai_ephemeral_user_id": "d3216805-3070-50ae-90b9-d10904c03600",
        "openai_subdivision1_iso_code": "GB-SCT"
      }
    },
    "kernel_info": {
      "name": "python3"
    },
    "kernelspec": {
      "display_name": "Python 3.9",
      "language": "python",
      "name": "python3"
    },
    "selected_hardware_size": "small"
  },
  "cells": [
    {
      "id": "86275177-b49b-4d54-ad29-0915b9bbfa11",
      "cell_type": "code",
      "metadata": {
        "noteable": {
          "cell_type": "code",
          "output_collection_id": "7d4376ef-1aa8-4ebe-b0be-e7899d567f57"
        },
        "ExecuteTime": {
          "end_time": "2023-09-06T19:48:41.930371+00:00",
          "start_time": "2023-09-06T19:48:41.293004+00:00"
        },
        "datalink": {
          "1e502bc8-091b-4479-99ac-ae8dda107c5d": {
            "applied_filters": [],
            "dataframe_info": {
              "default_index_used": true,
              "orig_num_cols": 16,
              "orig_num_rows": 5,
              "orig_size_bytes": 680,
              "truncated_num_cols": 16,
              "truncated_num_rows": 5,
              "truncated_size_bytes": 680,
              "truncated_string_columns": []
            },
            "display_id": "1e502bc8-091b-4479-99ac-ae8dda107c5d",
            "dx_settings": {
              "ALLOW_NOTEABLE_ATTRS": true,
              "COLUMN_SAMPLING_METHOD": "outer",
              "DB_LOCATION": ":memory:",
              "DEV_MODE": false,
              "DISPLAY_MAX_COLUMNS": 100,
              "DISPLAY_MAX_ROWS": 50000,
              "DISPLAY_MODE": "simple",
              "ENABLE_ASSIGNMENT": true,
              "ENABLE_DATALINK": true,
              "FLATTEN_COLUMN_VALUES": true,
              "FLATTEN_INDEX_VALUES": false,
              "GENERATE_DEX_METADATA": false,
              "HTML_TABLE_SCHEMA": false,
              "LOG_LEVEL": 30,
              "MAX_RENDER_SIZE_BYTES": 104857600,
              "MAX_STRING_LENGTH": 250,
              "NUM_PAST_SAMPLES_TRACKED": 3,
              "RANDOM_STATE": 12648430,
              "RESET_INDEX_VALUES": false,
              "ROW_SAMPLING_METHOD": "random",
              "SAMPLING_FACTOR": 0.1,
              "SAMPLING_METHOD": "random",
              "STRINGIFY_COLUMN_VALUES": true,
              "STRINGIFY_INDEX_VALUES": false
            },
            "sample_history": [],
            "sampling_time": "2023-09-06T19:48:41.765637",
            "user_variable_name": null,
            "variable_name": "unk_dataframe_d08b03c254b446ccb304a7a921f1c088"
          }
        }
      },
      "execution_count": null,
      "source": "import pandas as pd\nimport matplotlib.pyplot as plt\nimport seaborn as sns\n# Importing the raw house data into a DataFrame\nhouse_data = pd.read_csv('raw_house_data - raw_house_data.csv')\nhouse_data.head()",
      "outputs": []
    },
    {
      "id": "005fb6d3-e27b-4125-95d6-302b6f2ec904",
      "cell_type": "markdown",
      "source": "# Exploratory Data Analysis and Initial Cleaning for House Price Data\nThis notebook aims to perform exploratory data analysis (EDA) and initial data cleaning on the raw house price dataset. The cleaned dataset will be suitable for further modeling. The notebook will include all plots, charts, and justifications for any data transformations or deletions.",
      "metadata": {
        "noteable": {
          "cell_type": "markdown"
        }
      }
    },
    {
      "id": "2aceef5a-7ccb-49ea-a670-3ad33ed258b5",
      "cell_type": "code",
      "metadata": {
        "noteable": {
          "cell_type": "code",
          "output_collection_id": "abf8f0bb-00bd-480d-9dfe-336bfd9825a3"
        },
        "ExecuteTime": {
          "end_time": "2023-09-06T19:49:09.813729+00:00",
          "start_time": "2023-09-06T19:49:09.618314+00:00"
        },
        "datalink": {
          "8a84270b-26e9-4e29-86e7-f60e9942797d": {
            "applied_filters": [],
            "dataframe_info": {
              "default_index_used": false,
              "orig_num_cols": 1,
              "orig_num_rows": 16,
              "orig_size_bytes": 256,
              "truncated_num_cols": 1,
              "truncated_num_rows": 16,
              "truncated_size_bytes": 256,
              "truncated_string_columns": []
            },
            "display_id": "8a84270b-26e9-4e29-86e7-f60e9942797d",
            "dx_settings": {
              "ALLOW_NOTEABLE_ATTRS": true,
              "COLUMN_SAMPLING_METHOD": "outer",
              "DB_LOCATION": ":memory:",
              "DEV_MODE": false,
              "DISPLAY_MAX_COLUMNS": 100,
              "DISPLAY_MAX_ROWS": 50000,
              "DISPLAY_MODE": "simple",
              "ENABLE_ASSIGNMENT": true,
              "ENABLE_DATALINK": true,
              "FLATTEN_COLUMN_VALUES": true,
              "FLATTEN_INDEX_VALUES": false,
              "GENERATE_DEX_METADATA": false,
              "HTML_TABLE_SCHEMA": false,
              "LOG_LEVEL": 30,
              "MAX_RENDER_SIZE_BYTES": 104857600,
              "MAX_STRING_LENGTH": 250,
              "NUM_PAST_SAMPLES_TRACKED": 3,
              "RANDOM_STATE": 12648430,
              "RESET_INDEX_VALUES": false,
              "ROW_SAMPLING_METHOD": "random",
              "SAMPLING_FACTOR": 0.1,
              "SAMPLING_METHOD": "random",
              "STRINGIFY_COLUMN_VALUES": true,
              "STRINGIFY_INDEX_VALUES": false
            },
            "sample_history": [],
            "sampling_time": "2023-09-06T19:49:09.656098",
            "user_variable_name": "missing_values",
            "variable_name": "missing_values"
          }
        }
      },
      "execution_count": null,
      "source": "# Checking for missing values in each column\nmissing_values = house_data.isnull().sum()\nmissing_values",
      "outputs": []
    },
    {
      "id": "5593fcb8-7b4c-4562-b933-0f79eeae970e",
      "cell_type": "code",
      "metadata": {
        "noteable": {
          "cell_type": "code",
          "output_collection_id": "1b9ba710-7b0c-44c7-ad64-de29d579fdc1"
        },
        "ExecuteTime": {
          "end_time": "2023-09-06T19:49:22.583967+00:00",
          "start_time": "2023-09-06T19:49:22.380771+00:00"
        },
        "datalink": {
          "2146c20d-651c-411a-aaa9-4975cd63f759": {
            "applied_filters": [],
            "dataframe_info": {
              "default_index_used": false,
              "orig_num_cols": 1,
              "orig_num_rows": 16,
              "orig_size_bytes": 256,
              "truncated_num_cols": 1,
              "truncated_num_rows": 16,
              "truncated_size_bytes": 256,
              "truncated_string_columns": []
            },
            "display_id": "2146c20d-651c-411a-aaa9-4975cd63f759",
            "dx_settings": {
              "ALLOW_NOTEABLE_ATTRS": true,
              "COLUMN_SAMPLING_METHOD": "outer",
              "DB_LOCATION": ":memory:",
              "DEV_MODE": false,
              "DISPLAY_MAX_COLUMNS": 100,
              "DISPLAY_MAX_ROWS": 50000,
              "DISPLAY_MODE": "simple",
              "ENABLE_ASSIGNMENT": true,
              "ENABLE_DATALINK": true,
              "FLATTEN_COLUMN_VALUES": true,
              "FLATTEN_INDEX_VALUES": false,
              "GENERATE_DEX_METADATA": false,
              "HTML_TABLE_SCHEMA": false,
              "LOG_LEVEL": 30,
              "MAX_RENDER_SIZE_BYTES": 104857600,
              "MAX_STRING_LENGTH": 250,
              "NUM_PAST_SAMPLES_TRACKED": 3,
              "RANDOM_STATE": 12648430,
              "RESET_INDEX_VALUES": false,
              "ROW_SAMPLING_METHOD": "random",
              "SAMPLING_FACTOR": 0.1,
              "SAMPLING_METHOD": "random",
              "STRINGIFY_COLUMN_VALUES": true,
              "STRINGIFY_INDEX_VALUES": false
            },
            "sample_history": [],
            "sampling_time": "2023-09-06T19:49:22.425330",
            "user_variable_name": "data_types",
            "variable_name": "data_types"
          }
        }
      },
      "execution_count": null,
      "source": "# Checking the data types of each column\ndata_types = house_data.dtypes\ndata_types",
      "outputs": []
    },
    {
      "id": "1c75e9bb-c398-4a77-82e0-738af98b17d2",
      "cell_type": "markdown",
      "source": "## Initial Observations and Cleaning Strategy\n1. **Missing Values**: No missing values were observed in the dataset.\n2. **Data Types**: Some columns like 'bathrooms', 'sqrt_ft', 'garage', and 'HOA' are of object data type, which should be numerical for modeling. These need to be converted.\n3. **Categorical Features**: Columns like 'kitchen_features' and 'floor_covering' are categorical and may need encoding.\n\n### Cleaning Strategy\n1. Convert the object data types to numerical where applicable.\n2. For categorical features, explore and decide on encoding methods.\n3. Perform exploratory data analysis to understand distributions and correlations.",
      "metadata": {
        "noteable": {
          "cell_type": "markdown"
        }
      }
    },
    {
      "id": "eb9780ee-2921-48ce-84b1-b98d3cbf4b2c",
      "cell_type": "code",
      "metadata": {
        "noteable": {
          "cell_type": "code",
          "output_collection_id": "6ef311df-2ea2-4ed9-9517-2d5140f9a0ab"
        },
        "ExecuteTime": {
          "end_time": "2023-09-06T19:50:01.624421+00:00",
          "start_time": "2023-09-06T19:50:01.412136+00:00"
        },
        "datalink": {
          "426b7cce-fdff-437b-9d6b-3a9430a8048c": {
            "applied_filters": [],
            "dataframe_info": {
              "default_index_used": false,
              "orig_num_cols": 1,
              "orig_num_rows": 16,
              "orig_size_bytes": 256,
              "truncated_num_cols": 1,
              "truncated_num_rows": 16,
              "truncated_size_bytes": 256,
              "truncated_string_columns": []
            },
            "display_id": "426b7cce-fdff-437b-9d6b-3a9430a8048c",
            "dx_settings": {
              "ALLOW_NOTEABLE_ATTRS": true,
              "COLUMN_SAMPLING_METHOD": "outer",
              "DB_LOCATION": ":memory:",
              "DEV_MODE": false,
              "DISPLAY_MAX_COLUMNS": 100,
              "DISPLAY_MAX_ROWS": 50000,
              "DISPLAY_MODE": "simple",
              "ENABLE_ASSIGNMENT": true,
              "ENABLE_DATALINK": true,
              "FLATTEN_COLUMN_VALUES": true,
              "FLATTEN_INDEX_VALUES": false,
              "GENERATE_DEX_METADATA": false,
              "HTML_TABLE_SCHEMA": false,
              "LOG_LEVEL": 30,
              "MAX_RENDER_SIZE_BYTES": 104857600,
              "MAX_STRING_LENGTH": 250,
              "NUM_PAST_SAMPLES_TRACKED": 3,
              "RANDOM_STATE": 12648430,
              "RESET_INDEX_VALUES": false,
              "ROW_SAMPLING_METHOD": "random",
              "SAMPLING_FACTOR": 0.1,
              "SAMPLING_METHOD": "random",
              "STRINGIFY_COLUMN_VALUES": true,
              "STRINGIFY_INDEX_VALUES": false
            },
            "sample_history": [],
            "sampling_time": "2023-09-06T19:50:01.463986",
            "user_variable_name": null,
            "variable_name": "unk_dataframe_1dafa38b7c464dae825ac5992d788829"
          }
        }
      },
      "execution_count": null,
      "source": "# Converting object data types to numerical where applicable\nhouse_data['bathrooms'] = pd.to_numeric(house_data['bathrooms'], errors='coerce')\nhouse_data['sqrt_ft'] = pd.to_numeric(house_data['sqrt_ft'], errors='coerce')\nhouse_data['garage'] = pd.to_numeric(house_data['garage'], errors='coerce')\nhouse_data['HOA'] = pd.to_numeric(house_data['HOA'], errors='coerce')\n# Checking the data types again\nhouse_data.dtypes",
      "outputs": []
    },
    {
      "id": "39b718d6-241a-4570-9bcc-2a6f89d5a169",
      "cell_type": "code",
      "metadata": {
        "noteable": {
          "cell_type": "code",
          "output_collection_id": "7cf23405-5714-4c64-8be7-2f89d2741eb1"
        },
        "ExecuteTime": {
          "end_time": "2023-09-06T19:50:15.757974+00:00",
          "start_time": "2023-09-06T19:50:15.556743+00:00"
        },
        "datalink": {
          "22a112ba-2c07-4237-bf49-a28fb93b342f": {
            "applied_filters": [],
            "dataframe_info": {
              "default_index_used": false,
              "orig_num_cols": 1,
              "orig_num_rows": 16,
              "orig_size_bytes": 256,
              "truncated_num_cols": 1,
              "truncated_num_rows": 16,
              "truncated_size_bytes": 256,
              "truncated_string_columns": []
            },
            "display_id": "22a112ba-2c07-4237-bf49-a28fb93b342f",
            "dx_settings": {
              "ALLOW_NOTEABLE_ATTRS": true,
              "COLUMN_SAMPLING_METHOD": "outer",
              "DB_LOCATION": ":memory:",
              "DEV_MODE": false,
              "DISPLAY_MAX_COLUMNS": 100,
              "DISPLAY_MAX_ROWS": 50000,
              "DISPLAY_MODE": "simple",
              "ENABLE_ASSIGNMENT": true,
              "ENABLE_DATALINK": true,
              "FLATTEN_COLUMN_VALUES": true,
              "FLATTEN_INDEX_VALUES": false,
              "GENERATE_DEX_METADATA": false,
              "HTML_TABLE_SCHEMA": false,
              "LOG_LEVEL": 30,
              "MAX_RENDER_SIZE_BYTES": 104857600,
              "MAX_STRING_LENGTH": 250,
              "NUM_PAST_SAMPLES_TRACKED": 3,
              "RANDOM_STATE": 12648430,
              "RESET_INDEX_VALUES": false,
              "ROW_SAMPLING_METHOD": "random",
              "SAMPLING_FACTOR": 0.1,
              "SAMPLING_METHOD": "random",
              "STRINGIFY_COLUMN_VALUES": true,
              "STRINGIFY_INDEX_VALUES": false
            },
            "sample_history": [],
            "sampling_time": "2023-09-06T19:50:15.600436",
            "user_variable_name": "missing_values_after_conversion",
            "variable_name": "missing_values_after_conversion"
          }
        }
      },
      "execution_count": null,
      "source": "# Checking for missing values after conversion\nmissing_values_after_conversion = house_data.isnull().sum()\nmissing_values_after_conversion",
      "outputs": []
    },
    {
      "id": "35d6ed61-5856-4423-b599-bfbe4676ae3b",
      "cell_type": "markdown",
      "source": "## Handling Missing Values and Data Types\nAfter converting object types to numerical, we observed that the 'fireplaces' column has 25 missing values.\n\n### Strategy for Missing Values\n1. For the 'fireplaces' column, we can assume that missing values indicate no fireplaces in the house. Therefore, we will fill these with 0.\n\nLet's proceed with these changes.",
      "metadata": {
        "noteable": {
          "cell_type": "markdown"
        }
      }
    },
    {
      "id": "d4f9d063-22eb-4ae7-9dec-2e48142a646e",
      "cell_type": "code",
      "metadata": {
        "noteable": {
          "cell_type": "code",
          "output_collection_id": "a2d6b046-ec9c-4bbe-9124-33dc111a46b2"
        },
        "ExecuteTime": {
          "end_time": "2023-09-06T19:50:44.138037+00:00",
          "start_time": "2023-09-06T19:50:43.931104+00:00"
        },
        "datalink": {
          "0878e044-16cc-4a6f-adb3-259bdf6601e7": {
            "applied_filters": [],
            "dataframe_info": {
              "default_index_used": false,
              "orig_num_cols": 1,
              "orig_num_rows": 16,
              "orig_size_bytes": 256,
              "truncated_num_cols": 1,
              "truncated_num_rows": 16,
              "truncated_size_bytes": 256,
              "truncated_string_columns": []
            },
            "display_id": "0878e044-16cc-4a6f-adb3-259bdf6601e7",
            "dx_settings": {
              "ALLOW_NOTEABLE_ATTRS": true,
              "COLUMN_SAMPLING_METHOD": "outer",
              "DB_LOCATION": ":memory:",
              "DEV_MODE": false,
              "DISPLAY_MAX_COLUMNS": 100,
              "DISPLAY_MAX_ROWS": 50000,
              "DISPLAY_MODE": "simple",
              "ENABLE_ASSIGNMENT": true,
              "ENABLE_DATALINK": true,
              "FLATTEN_COLUMN_VALUES": true,
              "FLATTEN_INDEX_VALUES": false,
              "GENERATE_DEX_METADATA": false,
              "HTML_TABLE_SCHEMA": false,
              "LOG_LEVEL": 30,
              "MAX_RENDER_SIZE_BYTES": 104857600,
              "MAX_STRING_LENGTH": 250,
              "NUM_PAST_SAMPLES_TRACKED": 3,
              "RANDOM_STATE": 12648430,
              "RESET_INDEX_VALUES": false,
              "ROW_SAMPLING_METHOD": "random",
              "SAMPLING_FACTOR": 0.1,
              "SAMPLING_METHOD": "random",
              "STRINGIFY_COLUMN_VALUES": true,
              "STRINGIFY_INDEX_VALUES": false
            },
            "sample_history": [],
            "sampling_time": "2023-09-06T19:50:43.979658",
            "user_variable_name": null,
            "variable_name": "unk_dataframe_a52b88f0d61543c8bf4156a7452ffb02"
          }
        }
      },
      "execution_count": null,
      "source": "# Filling missing values in 'fireplaces' with 0\nhouse_data['fireplaces'].fillna(0, inplace=True)\n# Checking for missing values again\nhouse_data.isnull().sum()",
      "outputs": []
    },
    {
      "id": "fc87ba14-5618-413c-bbbe-58bf9a8eb1da",
      "cell_type": "markdown",
      "source": "## Exploratory Data Analysis (EDA)\nWith the missing values handled and data types corrected, let's move on to the exploratory data analysis. We will look at the following:\n1. Distribution of numerical features\n2. Correlation between features\n3. Distribution of categorical features\n\nLet's start with the distribution of numerical features.",
      "metadata": {
        "noteable": {
          "cell_type": "markdown"
        }
      }
    },
    {
      "id": "2082b833-cfcd-4b26-9f2c-b13a918777c0",
      "cell_type": "code",
      "metadata": {
        "noteable": {
          "cell_type": "code",
          "output_collection_id": "3bf30921-94b8-4bd8-ba89-5f650db5f49b"
        },
        "ExecuteTime": {
          "end_time": "2023-09-06T19:51:14.903869+00:00",
          "start_time": "2023-09-06T19:51:13.053922+00:00"
        }
      },
      "execution_count": null,
      "source": "# Distribution of numerical features\nnumerical_features = house_data.select_dtypes(include=['int64', 'float64']).columns\nhouse_data[numerical_features].hist(figsize=(15, 12), bins=20)\nplt.suptitle('Distribution of Numerical Features')\nplt.show()",
      "outputs": []
    },
    {
      "id": "0c6a1662-0472-4e0e-a019-6fd9a9989980",
      "cell_type": "markdown",
      "source": "## Observations on Numerical Features\n1. **sold_price**: The distribution is right-skewed, indicating that most houses are sold at lower prices.\n2. **year_built**: Most houses were built after 1950.\n3. **bedrooms**: Most houses have between 2 to 5 bedrooms.\n4. **fireplaces**: Majority of houses have no fireplaces or just one.\n5. **lot_acres**: The distribution is highly skewed, with most houses having less than 2 acres of land.\n6. **taxes**: The distribution is right-skewed, indicating that most houses have lower taxes.\n\nNext, let's look at the correlation between these features.",
      "metadata": {
        "noteable": {
          "cell_type": "markdown"
        }
      }
    },
    {
      "id": "e65256d2-fa4d-46a5-9dc0-45b1469253b9",
      "cell_type": "code",
      "metadata": {
        "noteable": {
          "cell_type": "code",
          "output_collection_id": "2a0382ed-7bd4-40bd-9e88-db0f52bfc63f"
        },
        "ExecuteTime": {
          "end_time": "2023-09-06T19:51:51.433537+00:00",
          "start_time": "2023-09-06T19:51:50.704487+00:00"
        }
      },
      "execution_count": null,
      "source": "# Correlation between numerical features\ncorrelation_matrix = house_data[numerical_features].corr()\nplt.figure(figsize=(12, 8))\nsns.heatmap(correlation_matrix, annot=True, cmap='coolwarm')\nplt.title('Correlation Matrix of Numerical Features')\nplt.show()",
      "outputs": []
    },
    {
      "id": "ce6746d1-6650-4a65-a2ca-6951d2052d19",
      "cell_type": "markdown",
      "source": "## Observations on Feature Correlations\n1. **sold_price and taxes**: A strong positive correlation (0.95) exists between the sold price of the house and the taxes, which is expected.\n2. **sold_price and bedrooms**: A moderate positive correlation (0.53) is observed, indicating that houses with more bedrooms tend to be sold at higher prices.\n3. **year_built and sold_price**: A weak positive correlation (0.25) suggests that newer houses might be sold at slightly higher prices.\n\nNext, let's explore the distribution of categorical features.",
      "metadata": {
        "noteable": {
          "cell_type": "markdown"
        }
      }
    },
    {
      "id": "ee02fea9-8ba3-4912-aba5-77155a95078c",
      "cell_type": "code",
      "metadata": {
        "noteable": {
          "cell_type": "code",
          "output_collection_id": "1b888f78-7804-4b82-8c66-fb669dc3f241"
        },
        "ExecuteTime": {
          "end_time": "2023-09-06T19:52:54.909839+00:00",
          "start_time": "2023-09-06T19:52:26.998669+00:00"
        }
      },
      "execution_count": null,
      "source": "# Distribution of categorical features\ncategorical_features = house_data.select_dtypes(include=['object']).columns\nfor feature in categorical_features:\n    plt.figure(figsize=(12, 6))\n    sns.countplot(data=house_data, x=feature)\n    plt.title(f'Distribution of {feature}')\n    plt.xticks(rotation=45)\n    plt.show()",
      "outputs": []
    }
  ]
}